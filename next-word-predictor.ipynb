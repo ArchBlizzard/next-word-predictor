{
 "cells": [
  {
   "cell_type": "code",
   "execution_count": 1,
   "id": "6b7cbf4a-009c-4a8f-85e3-b8efeaf5e294",
   "metadata": {},
   "outputs": [
    {
     "name": "stdout",
     "output_type": "stream",
     "text": [
      "Using device: cuda\n"
     ]
    },
    {
     "name": "stdin",
     "output_type": "stream",
     "text": [
      "Enter a sentence (or type 'exit' to quit):  the quick brown\n"
     ]
    },
    {
     "name": "stderr",
     "output_type": "stream",
     "text": [
      "C:\\Users\\anchi\\AppData\\Roaming\\Python\\Python312\\site-packages\\transformers\\models\\phi\\modeling_phi.py:688: UserWarning: 1Torch was not compiled with flash attention. (Triggered internally at C:\\actions-runner\\_work\\pytorch\\pytorch\\builder\\windows\\pytorch\\aten\\src\\ATen\\native\\transformers\\cuda\\sdp_utils.cpp:555.)\n",
      "  attn_output = torch.nn.functional.scaled_dot_product_attention(\n",
      "Starting from v4.46, the `logits` model output will have the same type as the model (except at train time, where it will always be FP32)\n"
     ]
    },
    {
     "name": "stdout",
     "output_type": "stream",
     "text": [
      "\n",
      "Input Text:  the quick brown\n",
      "\n",
      "Token Predictions:\n",
      " fox : 0.95\n",
      "\" : 0.01\n",
      " jumps : 0.01\n",
      "\", : 0.01\n",
      "', : 0.00\n",
      "\n",
      "Predicted Next Word:  fox\n"
     ]
    },
    {
     "name": "stdin",
     "output_type": "stream",
     "text": [
      "Enter a sentence (or type 'exit' to quit):  hello\n"
     ]
    },
    {
     "name": "stdout",
     "output_type": "stream",
     "text": [
      "\n",
      "Input Text:  hello\n",
      "\n",
      "Token Predictions:\n",
      " world : 0.34\n",
      "\") : 0.14\n",
      "\", : 0.13\n",
      "\" : 0.10\n",
      "_ : 0.08\n",
      "\n",
      "Predicted Next Word:  world\n"
     ]
    },
    {
     "name": "stdin",
     "output_type": "stream",
     "text": [
      "Enter a sentence (or type 'exit' to quit):  exit\n"
     ]
    }
   ],
   "source": [
    "from transformers import AutoModelForCausalLM, AutoTokenizer\n",
    "import torch\n",
    "\n",
    "def load_model_and_tokenizer(model_name, device):\n",
    "    model = AutoModelForCausalLM.from_pretrained(model_name).to(device)\n",
    "    tokenizer = AutoTokenizer.from_pretrained(model_name)\n",
    "    return model, tokenizer\n",
    "\n",
    "def predict_next_word(text, model, tokenizer, top_k, device):\n",
    "    input_ids = tokenizer.encode(text, return_tensors='pt').to(device)\n",
    "    with torch.no_grad():\n",
    "        outputs = model(input_ids)\n",
    "        predictions = outputs.logits\n",
    "    predicted_index = torch.argmax(predictions[0, -1, :]).item()\n",
    "    predicted_token = tokenizer.decode(predicted_index)\n",
    "    predicted_indices = torch.topk(predictions[0, -1, :], top_k).indices\n",
    "    predicted_tokens = [tokenizer.decode(idx.item()) for idx in predicted_indices]\n",
    "    predicted_scores = torch.softmax(predictions[0, -1, :], dim=-1)\n",
    "    predicted_probabilities = [predicted_scores[idx].item() for idx in predicted_indices]\n",
    "    return {\n",
    "        'input_text': text,\n",
    "        'input_ids': input_ids.tolist()[0],\n",
    "        'predicted_next_word': predicted_token,\n",
    "        'top_predictions': list(zip(predicted_tokens, predicted_probabilities))\n",
    "    }\n",
    "\n",
    "def display_predictions(predictions):\n",
    "    print(\"\\nInput Text: \", predictions['input_text'])\n",
    "    print(\"\\nToken Predictions:\")\n",
    "    for token, score in predictions['top_predictions']:\n",
    "        print(f\"{token} : {score:.2f}\")\n",
    "    print(\"\\nPredicted Next Word:\", predictions['predicted_next_word'])\n",
    "\n",
    "if __name__ == \"__main__\":\n",
    "    device = torch.device(\"cuda\" if torch.cuda.is_available() else \"cpu\")\n",
    "    print(f\"Using device: {device}\")\n",
    "    model_name = \"microsoft/phi-1\"\n",
    "    model, tokenizer = load_model_and_tokenizer(model_name, device)\n",
    "\n",
    "    while True:\n",
    "        text = input(\"Enter a sentence (or type 'exit' to quit): \").strip()\n",
    "        if text.lower() == \"exit\":\n",
    "            break\n",
    "        predictions = predict_next_word(text, model, tokenizer, top_k=5, device=device)\n",
    "        display_predictions(predictions)"
   ]
  },
  {
   "cell_type": "code",
   "execution_count": null,
   "id": "381f233c-0262-442a-87a6-07c3272c6796",
   "metadata": {},
   "outputs": [],
   "source": []
  }
 ],
 "metadata": {
  "kernelspec": {
   "display_name": "Python 3 (ipykernel)",
   "language": "python",
   "name": "python3"
  },
  "language_info": {
   "codemirror_mode": {
    "name": "ipython",
    "version": 3
   },
   "file_extension": ".py",
   "mimetype": "text/x-python",
   "name": "python",
   "nbconvert_exporter": "python",
   "pygments_lexer": "ipython3",
   "version": "3.12.0"
  }
 },
 "nbformat": 4,
 "nbformat_minor": 5
}
